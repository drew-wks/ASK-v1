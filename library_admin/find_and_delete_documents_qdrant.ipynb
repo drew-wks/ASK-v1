{
 "cells": [
  {
   "cell_type": "markdown",
   "metadata": {},
   "source": [
    "# Tools for auditing the Qdrant DB, finding and deleting documents\n"
   ]
  },
  {
   "cell_type": "markdown",
   "metadata": {},
   "source": [
    "#### This is the **R** and **D** in the **CRUD** acronym. This notebook assumes Langchain `Document` object. See database_schema.md for more details. Qdrant documentation is located [here.](https://qdrant.github.io/qdrant/redoc/index.html#tag/points/operation/scroll_points). Adding to this becuase it's hard to find online searching\n"
   ]
  },
  {
   "cell_type": "code",
   "execution_count": null,
   "metadata": {},
   "outputs": [],
   "source": [
    "# Ccnfirm you're using the correct interpreter\n",
    "#\n",
    "import sys\n",
    "print(sys.executable)"
   ]
  },
  {
   "cell_type": "markdown",
   "metadata": {},
   "source": [
    "## 0. Imports and configs\n"
   ]
  },
  {
   "cell_type": "code",
   "execution_count": null,
   "metadata": {},
   "outputs": [],
   "source": [
    "import pandas as pd\n",
    "from datetime import datetime\n",
    "import streamlit as st\n",
    "\n",
    "\n",
    "# CONFIG: qdrant\n",
    "api_key = st.secrets[\"QDRANT_API_KEY\"]\n",
    "url = st.secrets[\"QDRANT_URL\"]  # for cloud\n",
    "qdrant_collection_name = \"ASK_vectorstore\"\n",
    "\n",
    "# for local instand. ON mac local instance is /private/tmp/local_qdrant\n",
    "qdrant_path = \"/Users/drew_wilkins/Drews_Files/Drew/Python/VSCode/ASK/data/qdrant\""
   ]
  },
  {
   "cell_type": "markdown",
   "metadata": {},
   "source": [
    "## 1. Create Qdrant client and connection\n"
   ]
  },
  {
   "cell_type": "code",
   "execution_count": null,
   "metadata": {},
   "outputs": [],
   "source": [
    "from qdrant_client import QdrantClient\n",
    "from qdrant_client.http import exceptions as qdrant_exceptions\n",
    "\n",
    "# Load an instance of the client. WITHOUT LANGCHAIN\n",
    "# 22.5 sec for cloud\n",
    "# Running this places a lock file in the qdrant directory\n",
    "\n",
    "client = QdrantClient(\n",
    "    url=url,\n",
    "    # prefer_grpc=True,\n",
    "    api_key=api_key,\n",
    "    # path=qdrant_path\n",
    ")\n",
    "\n",
    "try:\n",
    "    collection = client.get_collections()\n",
    "    print(collection)\n",
    "except qdrant_exceptions.UnexpectedResponse as e:\n",
    "    if \"404\" in str(e):\n",
    "        print(\"The server returned a 404 Not Found error, which indicates the server is active but could not find the requested URL or endpoint. This might be due to a wrong URL, an incorrect path, or a resource that doesn't exist.\")\n",
    "    else:\n",
    "        # Re-raise the error if it's not a 404\n",
    "        raise\n",
    "except Exception as e:\n",
    "    # Handle any other exceptions that may occur\n",
    "    print(f\"An unexpected error occurred: {e}\")"
   ]
  },
  {
   "cell_type": "markdown",
   "metadata": {},
   "source": [
    "## 3. Define a range index so you can sort on it\n",
    "NOTE: expressions that use this index will not return records that are missing a page key"
   ]
  },
  {
   "cell_type": "code",
   "execution_count": null,
   "metadata": {},
   "outputs": [],
   "source": [
    "from qdrant_client.http import models\n",
    "2.  # Creates a range index for `metadata.page`, so you can use this indexed field to order your results by page number.\n",
    "\n",
    "\n",
    "client.create_payload_index(\n",
    "    collection_name=qdrant_collection_name,\n",
    "    field_name=\"metadata.page\",\n",
    "    # Assuming page numbers are stored as integers\n",
    "    field_schema=models.PayloadSchemaType.INTEGER,\n",
    ")"
   ]
  },
  {
   "cell_type": "markdown",
   "metadata": {},
   "source": [
    "## 4. Find and delete records\n",
    "\n",
    "1. Do an initial search on `metadata.source` based on the file name.\n",
    "2. Review the initial search result to see if you get exactly what you want.\n",
    "3. Iterate using `metadata.source` and `metadata.page_content` until you are sure.\n",
    "4. Confirm it's giving you the doc, the whole doc, and nothing but the doc.\n",
    "5. Delete away!\n"
   ]
  },
  {
   "cell_type": "code",
   "execution_count": null,
   "metadata": {},
   "outputs": [],
   "source": [
    "'''\n",
    "This script uses a filter (scroll_filter) to count the number of points that match criteria and show the points. \n",
    "\n",
    "NOTE: The filter is case-sensitive and uses the `MatchText` condition. \n",
    "NOTE: This will not catch records lacking in a page field or a page field that lives in a different location.\n",
    "Order_by requires qdrant-client 1.8 or later\n",
    "'''\n",
    "\n",
    "from qdrant_client.http import models\n",
    "\n",
    "scroll_filter = models.Filter(\n",
    "    must=[\n",
    "        models.FieldCondition(\n",
    "            # key=\"page_content\",  # only in upsert>01NOV2024\n",
    "            # key=\"metadata.pdf_id\",  # only in upsert>01NOV2024\n",
    "            # key=\"metadata.pdf_file_name\",  # only in upsert>01NOV2024\n",
    "            # key=\"metadata.page_content\",  # pre-02NOV2024\n",
    "            key=\"metadata.source\",  # only usedful in pre-02NOV2024\n",
    "            match=models.MatchText(\n",
    "                text=\"Auxiliary_Division_Procedures_Guide_COMDTPUB\"\n",
    "            ),  # leave blank to get all\n",
    "        ),\n",
    "    ]\n",
    ")\n",
    "\n",
    "records = client.scroll(collection_name=qdrant_collection_name,\n",
    "                        scroll_filter=scroll_filter,\n",
    "                        with_payload=True,  # optional. Defaults to false\n",
    "                        with_vectors=False,  # optional. Defaults to false\n",
    "                        limit=10000,\n",
    "                        order_by=models.OrderBy(\n",
    "                            key=\"metadata.page\",  # Field for ordering\n",
    "                            direction=\"asc\"       # \"desc\" for descending order\n",
    "                        )\n",
    "                        )\n",
    "\n",
    "print(f\"Number of points found: {len(records[0])}\")\n",
    "records[0]"
   ]
  },
  {
   "cell_type": "markdown",
   "metadata": {},
   "source": [
    "#### Then uses the filter to **<span style=\"color:red\">DELETE</span>** based on `metadata.source`\n"
   ]
  },
  {
   "cell_type": "code",
   "execution_count": null,
   "metadata": {},
   "outputs": [],
   "source": [
    "from qdrant_client.http import models\n",
    "\n",
    "client.delete(\n",
    "    collection_name=qdrant_collection_name,\n",
    "    points_selector=scroll_filter,\n",
    ")"
   ]
  },
  {
   "cell_type": "markdown",
   "metadata": {},
   "source": [
    "## OTHER EXAMPLES\n"
   ]
  },
  {
   "cell_type": "markdown",
   "metadata": {},
   "source": [
    "### Example: Find points based on `source`\n"
   ]
  },
  {
   "cell_type": "code",
   "execution_count": null,
   "metadata": {},
   "outputs": [],
   "source": [
    "from qdrant_client.http import models\n",
    "\n",
    "records = client.scroll(\n",
    "    collection_name=qdrant_collection_name,\n",
    "    with_payload=True,  # change to True to see the payload\n",
    "    with_vectors=False,  # change to True to see the vectors\n",
    "    limit=100000,\n",
    "\n",
    "    scroll_filter=models.Filter(\n",
    "        must=[\n",
    "            models.FieldCondition(\n",
    "                # source is pdf_filepath in upsert<01NOV2024 afterwards its URL of pdf\n",
    "                key=\"metadata.source\",\n",
    "                match=models.MatchText(\n",
    "                    text=\"AUX-PL-017(A)\"),\n",
    "            ),\n",
    "        ]\n",
    "    ),\n",
    ")\n",
    "\n",
    "print(f\"Number of points found: {len(records[0])}\")\n",
    "records"
   ]
  },
  {
   "cell_type": "markdown",
   "metadata": {},
   "source": [
    "### Example: **<span style=\"color:red\">Delete points based on the `source` as defined in THIS cell**</span>\n"
   ]
  },
  {
   "cell_type": "code",
   "execution_count": null,
   "metadata": {},
   "outputs": [],
   "source": [
    "from qdrant_client.http import models\n",
    "\n",
    "client.delete(\n",
    "    collection_name=qdrant_collection_name,\n",
    "    points_selector=models.Filter(\n",
    "        must=[\n",
    "            models.FieldCondition(\n",
    "                key=\"metadata.source\",\n",
    "                match=models.MatchText(\n",
    "                    text=\"_______\"),  # BE CAREFUL CHECK THIS IS WHAT YOUR\n",
    "            ),\n",
    "        ]\n",
    "    ),\n",
    ")\n",
    "\n",
    "print(f\"Number of points deleted: {len(records[0])}\")"
   ]
  },
  {
   "cell_type": "markdown",
   "metadata": {},
   "source": [
    "### Example: Find points based on `id`\n"
   ]
  },
  {
   "cell_type": "code",
   "execution_count": null,
   "metadata": {},
   "outputs": [],
   "source": [
    "from qdrant_client.http import models\n",
    "\n",
    "records = client.scroll(\n",
    "    collection_name=qdrant_collection_name,\n",
    "    with_payload=True,  # change to True to see the payload\n",
    "    with_vectors=False,  # change to True to see the vectors\n",
    "    limit=100000,\n",
    "    scroll_filter=models.Filter(\n",
    "        must=[\n",
    "            models.HasIdCondition(\n",
    "                has_id=[\"3d14ab7a-c7de-4ca6-a22e-e7bfed3ba562\"])\n",
    "        ]\n",
    "    )\n",
    ")\n",
    "\n",
    "print(f\"Number of points found: {len(records[0])}\")\n",
    "print(records)"
   ]
  },
  {
   "cell_type": "code",
   "execution_count": null,
   "metadata": {},
   "outputs": [],
   "source": [
    "from qdrant_client.http import models\n",
    "\n",
    "records = client.scroll(\n",
    "    collection_name=qdrant_collection_name,\n",
    "    with_payload=True,  # change to True to see the payload\n",
    "    with_vectors=False,  # change to True to see the vectors\n",
    "    limit=100000,\n",
    "    scroll_filter=models.Filter(\n",
    "        must=[\n",
    "            models.HasIdCondition(\n",
    "                has_id=[\"544ed8b5-67dd-4d21-8c87-895dde459658\"])\n",
    "        ]\n",
    "    )\n",
    ")\n",
    "\n",
    "print(f\"Number of points found: {len(records[0])}\")\n",
    "print(records)"
   ]
  },
  {
   "cell_type": "markdown",
   "metadata": {},
   "source": [
    "### Example: Find points based on `pdf_id`"
   ]
  },
  {
   "cell_type": "code",
   "execution_count": null,
   "metadata": {},
   "outputs": [],
   "source": [
    "from qdrant_client.http import models\n",
    "\n",
    "records = client.scroll(\n",
    "    collection_name=qdrant_collection_name,\n",
    "    with_payload=True,  # change to True to see the payload\n",
    "    with_vectors=False,  # change to True to see the vectors\n",
    "    limit=1000,\n",
    "\n",
    "    scroll_filter=models.Filter(\n",
    "        must=[\n",
    "            models.FieldCondition(\n",
    "                key=\"metadata.pdf_id\",  # only in upsert>01NOV2024\n",
    "                match=models.MatchText(\n",
    "                    text=\"4e61e002-e351-4759-98b6-b881fcb5f440\"),\n",
    "            ),\n",
    "        ]\n",
    "    ),\n",
    ")\n",
    "\n",
    "print(f\"Number of points found: {len(records[0])}\")"
   ]
  },
  {
   "cell_type": "markdown",
   "metadata": {},
   "source": [
    "### Example: Find points that are missing the `page` field\n",
    "\n",
    "\n"
   ]
  },
  {
   "cell_type": "code",
   "execution_count": null,
   "metadata": {},
   "outputs": [],
   "source": [
    "from qdrant_client.http import models\n",
    "\n",
    "records = client.scroll(\n",
    "    collection_name=qdrant_collection_name,\n",
    "    with_payload=True,  # Set to True to see the payload\n",
    "    with_vectors=False,  # Set to True to see the vectors\n",
    "    limit=10000,\n",
    "\n",
    "    scroll_filter=models.Filter(\n",
    "        must=[\n",
    "            models.IsEmptyCondition(is_empty=models.PayloadField(key=\"metadata.page\"),\n",
    "                                    )\n",
    "        ]\n",
    "    )\n",
    ")\n",
    "\n",
    "print(f\"Number of points found: {len(records[0])}\")\n",
    "records"
   ]
  },
  {
   "cell_type": "markdown",
   "metadata": {},
   "source": [
    "### Example: Find points where `page` field does not exist or is inside the metadata dictionary!\n",
    "\n",
    "\n"
   ]
  },
  {
   "cell_type": "code",
   "execution_count": null,
   "metadata": {},
   "outputs": [],
   "source": [
    "from qdrant_client.http import models\n",
    "\n",
    "records = client.scroll(\n",
    "    collection_name=qdrant_collection_name,\n",
    "    with_payload=True,  # Set to True to see the payload\n",
    "    with_vectors=False,  # Set to True to see the vectors\n",
    "    limit=10000,\n",
    "\n",
    "    scroll_filter=models.Filter(\n",
    "        must=[\n",
    "            models.IsEmptyCondition(is_empty=models.PayloadField(key=\"page\"),\n",
    "                                    )\n",
    "        ]\n",
    "    )\n",
    ")\n",
    "\n",
    "print(f\"Number of points found: {len(records[0])}\")\n",
    "records"
   ]
  },
  {
   "cell_type": "markdown",
   "metadata": {},
   "source": [
    "### Example: Find points based on both `page` AND `source`\n",
    "\n",
    "\n"
   ]
  },
  {
   "cell_type": "code",
   "execution_count": null,
   "metadata": {},
   "outputs": [],
   "source": [
    "from qdrant_client.http import models\n",
    "\n",
    "records = client.scroll(\n",
    "    collection_name=qdrant_collection_name,\n",
    "    with_payload=True,  # change to True to see the payload\n",
    "    with_vectors=False,  # change to True to see the vectors\n",
    "    limit=1000,\n",
    "\n",
    "    scroll_filter=models.Filter(\n",
    "        must=[\n",
    "            models.FieldCondition(\n",
    "                # source is pdf_filepath in upsert<01NOV2024 afterwards its URL of pdf\n",
    "                # key=\"metadata.source\",\n",
    "                # key=\"page_content\",  # only in upsert>01NOV2024\n",
    "                key=\"metadata.page_content\",\n",
    "                match=models.MatchText(\n",
    "                    text=\"\"),\n",
    "            ),\n",
    "            models.FieldCondition(\n",
    "                key=\"metadata.page\",\n",
    "                match=models.MatchValue(\n",
    "                    value=0),\n",
    "            ),\n",
    "        ]\n",
    "    ),\n",
    ")\n",
    "\n",
    "print(f\"Number of points found: {len(records[0])}\")\n",
    "records"
   ]
  },
  {
   "cell_type": "markdown",
   "metadata": {},
   "source": [
    "### Example: Create a list of all unique file names \n",
    "(assuming they are not missing the page key)\n"
   ]
  },
  {
   "cell_type": "code",
   "execution_count": null,
   "metadata": {},
   "outputs": [],
   "source": [
    "from qdrant_client.http import models\n",
    "\n",
    "records = client.scroll(\n",
    "    collection_name=qdrant_collection_name,\n",
    "    with_payload=True,  # change to True to see the payload\n",
    "    with_vectors=False,  # change to True to see the vectors\n",
    "    limit=2,\n",
    "\n",
    "    scroll_filter=models.Filter(\n",
    "        must=[\n",
    "            models.FieldCondition(\n",
    "                key=\"metadata.page\",\n",
    "                match=models.MatchValue(\n",
    "                    value=0),\n",
    "            ),\n",
    "        ]\n",
    "    ),\n",
    ")\n",
    "\n",
    "print(f\"Number of points found: {len(records[0])}\")\n",
    "records"
   ]
  }
 ],
 "metadata": {
  "kernelspec": {
   "display_name": ".venv-v1",
   "language": "python",
   "name": "python3"
  },
  "language_info": {
   "codemirror_mode": {
    "name": "ipython",
    "version": 3
   },
   "file_extension": ".py",
   "mimetype": "text/x-python",
   "name": "python",
   "nbconvert_exporter": "python",
   "pygments_lexer": "ipython3",
   "version": "3.11.6"
  }
 },
 "nbformat": 4,
 "nbformat_minor": 2
}
